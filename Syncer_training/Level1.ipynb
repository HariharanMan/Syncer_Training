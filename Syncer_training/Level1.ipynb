{
 "cells": [
  {
   "cell_type": "code",
   "execution_count": 2,
   "id": "e849a3e3-e75f-4c7b-849a-0e83e0d9a878",
   "metadata": {},
   "outputs": [
    {
     "name": "stdout",
     "output_type": "stream",
     "text": [
      "Hello,World\n"
     ]
    }
   ],
   "source": [
    "#task1\n",
    "print(\"Hello,World\")"
   ]
  },
  {
   "cell_type": "code",
   "execution_count": 4,
   "id": "081f3444-3820-43b7-9e81-669d373417a1",
   "metadata": {},
   "outputs": [
    {
     "name": "stdout",
     "output_type": "stream",
     "text": [
      "5 + 3 = 8\n"
     ]
    }
   ],
   "source": [
    "#task2\n",
    "print(\"5 + 3 =\",5+3)"
   ]
  },
  {
   "cell_type": "code",
   "execution_count": 5,
   "id": "53951019-8753-486b-b24c-eb616ba70022",
   "metadata": {},
   "outputs": [
    {
     "name": "stdout",
     "output_type": "stream",
     "text": [
      "[1, 2, 3, 4, 5, 6]\n"
     ]
    }
   ],
   "source": [
    "#task3\n",
    "my_list = [1,2,3,4,5]\n",
    "my_list.append(6)\n",
    "print(my_list)"
   ]
  },
  {
   "cell_type": "code",
   "execution_count": 6,
   "id": "ae05aab3-1d6f-4716-a50f-363d37e11a49",
   "metadata": {},
   "outputs": [
    {
     "name": "stdout",
     "output_type": "stream",
     "text": [
      "(3, 4, 5)\n"
     ]
    }
   ],
   "source": [
    "#task4\n",
    "my_tuple = (3,4,5)\n",
    "print(my_tuple)"
   ]
  },
  {
   "cell_type": "code",
   "execution_count": 8,
   "id": "64b00955-fc5e-4aea-81e1-89a87d2156c9",
   "metadata": {},
   "outputs": [
    {
     "name": "stdout",
     "output_type": "stream",
     "text": [
      "{3, 4, 5, 6, 7}\n"
     ]
    }
   ],
   "source": [
    "#task5\n",
    "my_set = {3,4,5,6}\n",
    "my_set.add(7)\n",
    "print(my_set)"
   ]
  },
  {
   "cell_type": "code",
   "execution_count": 9,
   "id": "831b8769-a109-45fc-adc9-895711250cb7",
   "metadata": {},
   "outputs": [
    {
     "name": "stdout",
     "output_type": "stream",
     "text": [
      "{'sns': 'coimbatore', 'ssn': 'chennai', 'srm': 'chennai'}\n"
     ]
    }
   ],
   "source": [
    "#task6\n",
    "my_dict = {\"sns\":\"coimbatore\",\"ssn\":\"chennai\"}\n",
    "my_dict[\"srm\"] = \"chennai\"\n",
    "print(my_dict)"
   ]
  },
  {
   "cell_type": "code",
   "execution_count": 10,
   "id": "1ce9093e-d423-407e-b233-9b4a7cdcafd7",
   "metadata": {},
   "outputs": [
    {
     "name": "stdout",
     "output_type": "stream",
     "text": [
      "[ 1  2  3  4  5  6  7  8  9 10]\n"
     ]
    }
   ],
   "source": [
    "#task7\n",
    "import numpy as np\n",
    "arr = np.array(range(1,11))\n",
    "print(arr)"
   ]
  },
  {
   "cell_type": "code",
   "execution_count": 11,
   "id": "bf1e201d-44a6-4176-923f-40706a581c30",
   "metadata": {},
   "outputs": [
    {
     "name": "stdout",
     "output_type": "stream",
     "text": [
      "1\n",
      "10\n",
      "5.5\n"
     ]
    }
   ],
   "source": [
    "#task8\n",
    "min_value = np.min(arr)\n",
    "max_value = np.max(arr)\n",
    "mean_value = np.mean(arr)\n",
    "print(min_value)\n",
    "print(max_value)\n",
    "print(mean_value)"
   ]
  },
  {
   "cell_type": "code",
   "execution_count": 13,
   "id": "9c7f55dd-d99c-4b7a-b88a-1733468010fa",
   "metadata": {},
   "outputs": [
    {
     "name": "stdout",
     "output_type": "stream",
     "text": [
      "           0          1          2          3          4          5  \\\n",
      "0 -119.21760  124.33833 -22.838790  42.074740  -7.011255  19.987260   \n",
      "1 -231.11064  117.29235  13.844360  40.625570   6.719325  23.114820   \n",
      "2 -106.71470  138.27286 -25.117392  33.036263 -17.002466  25.984060   \n",
      "3 -225.12614  160.49052   5.700141  26.851997   8.370367   9.451518   \n",
      "4 -148.09901  115.34616 -34.792790  25.507706 -34.924930  15.149554   \n",
      "\n",
      "           6          7          8          9         10         11        12  \\\n",
      "0 -16.026869  17.884810 -12.553806  12.362547  -9.089807   8.994223 -5.611320   \n",
      "1  -7.070031  25.749584  -7.358057  11.780967  -1.463972  10.752818 -1.192076   \n",
      "2 -14.420881   9.424596 -12.161647   6.012225 -13.856017   4.925122 -9.078103   \n",
      "3   2.127471  10.046882   2.389887   9.063893   3.287354   3.338075 -2.649507   \n",
      "4 -23.471218   1.445836 -15.869086   2.962356 -16.011250  -2.585253 -3.462418   \n",
      "\n",
      "   label  \n",
      "0  blues  \n",
      "1  blues  \n",
      "2  blues  \n",
      "3  blues  \n",
      "4  blues  \n",
      "<class 'pandas.core.frame.DataFrame'>\n",
      "RangeIndex: 1000 entries, 0 to 999\n",
      "Data columns (total 14 columns):\n",
      " #   Column  Non-Null Count  Dtype  \n",
      "---  ------  --------------  -----  \n",
      " 0   0       1000 non-null   float64\n",
      " 1   1       1000 non-null   float64\n",
      " 2   2       1000 non-null   float64\n",
      " 3   3       1000 non-null   float64\n",
      " 4   4       1000 non-null   float64\n",
      " 5   5       1000 non-null   float64\n",
      " 6   6       1000 non-null   float64\n",
      " 7   7       1000 non-null   float64\n",
      " 8   8       1000 non-null   float64\n",
      " 9   9       1000 non-null   float64\n",
      " 10  10      1000 non-null   float64\n",
      " 11  11      1000 non-null   float64\n",
      " 12  12      1000 non-null   float64\n",
      " 13  label   1000 non-null   object \n",
      "dtypes: float64(13), object(1)\n",
      "memory usage: 109.5+ KB\n",
      "None\n"
     ]
    }
   ],
   "source": [
    "#task9\n",
    "import pandas as pd\n",
    "df = pd.read_csv(\"features.csv\")\n",
    "print(df.head())\n",
    "print(df.info())"
   ]
  },
  {
   "cell_type": "code",
   "execution_count": 14,
   "id": "94cc1a77-469b-4718-ac03-87a4e2c1acbf",
   "metadata": {},
   "outputs": [
    {
     "name": "stdin",
     "output_type": "stream",
     "text": [
      "Enter key 1: 1\n",
      "Enter Value 1 :  book\n"
     ]
    },
    {
     "name": "stdout",
     "output_type": "stream",
     "text": [
      "Final Dictionary : {'1': 'book'}\n"
     ]
    },
    {
     "name": "stdin",
     "output_type": "stream",
     "text": [
      "Enter key 2: 2\n",
      "Enter Value 2 :  newspaper\n"
     ]
    },
    {
     "name": "stdout",
     "output_type": "stream",
     "text": [
      "Final Dictionary : {'1': 'book', '2': 'newspaper'}\n"
     ]
    },
    {
     "name": "stdin",
     "output_type": "stream",
     "text": [
      "Enter key 3: 3\n",
      "Enter Value 3 :  pen\n"
     ]
    },
    {
     "name": "stdout",
     "output_type": "stream",
     "text": [
      "Final Dictionary : {'1': 'book', '2': 'newspaper', '3': 'pen'}\n"
     ]
    }
   ],
   "source": [
    "user_dict = {}\n",
    "for i in range (3):\n",
    "    key = input(f\"Enter key {i+1}:\")\n",
    "    value = input(f\"Enter Value {key} : \")\n",
    "    user_dict[key] = value\n",
    "    print(\"Final Dictionary :\" , user_dict)"
   ]
  },
  {
   "cell_type": "code",
   "execution_count": 15,
   "id": "0aba3f5d-01d5-46bc-b9c1-260aed70347e",
   "metadata": {},
   "outputs": [
    {
     "name": "stdout",
     "output_type": "stream",
     "text": [
      "[[3 4]\n",
      " [5 8]]\n"
     ]
    }
   ],
   "source": [
    "import numpy as np\n",
    "matrix1 = np.array([[1,3],[2,6]])\n",
    "matrix2 = np.array([[2,1],[3,2]])\n",
    "matrix_sum = np.add(matrix1,matrix2)\n",
    "print(matrix_sum)"
   ]
  },
  {
   "cell_type": "code",
   "execution_count": null,
   "id": "3e263e5b-34e9-4351-b2e7-3ee1191e89c8",
   "metadata": {},
   "outputs": [],
   "source": []
  }
 ],
 "metadata": {
  "kernelspec": {
   "display_name": "Python 3 (ipykernel)",
   "language": "python",
   "name": "python3"
  },
  "language_info": {
   "codemirror_mode": {
    "name": "ipython",
    "version": 3
   },
   "file_extension": ".py",
   "mimetype": "text/x-python",
   "name": "python",
   "nbconvert_exporter": "python",
   "pygments_lexer": "ipython3",
   "version": "3.11.7"
  }
 },
 "nbformat": 4,
 "nbformat_minor": 5
}
