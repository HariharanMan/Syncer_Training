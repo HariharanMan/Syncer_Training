{
 "cells": [
  {
   "cell_type": "code",
   "execution_count": 2,
   "id": "60dd93d5-8cb0-42f2-a68a-1aa8d189ada1",
   "metadata": {},
   "outputs": [
    {
     "name": "stdout",
     "output_type": "stream",
     "text": [
      "Z-score:15.08\n",
      "p-value:0.000000\n",
      "Reject H0:Medication affects IQ (likely increases it).\n"
     ]
    }
   ],
   "source": [
    "#Task 1\n",
    "import numpy as np\n",
    "import statsmodels.stats.weightstats as st\n",
    "\n",
    "np.random.seed(42)\n",
    "sample_data=np.random.normal(140,15,30)\n",
    "\n",
    "z_score , p_value = st.ztest(sample_data,value=100)\n",
    "\n",
    "print(f\"Z-score:{z_score:.2f}\")\n",
    "print(f\"p-value:{p_value:5f}\")\n",
    "\n",
    "if p_value < 0.05:\n",
    "    print(\"Reject H0:Medication affects IQ (likely increases it).\")\n",
    "else:\n",
    "    print(\"Fail to reject H0:No significant effect of medication on IQ.\")"
   ]
  },
  {
   "cell_type": "code",
   "execution_count": 3,
   "id": "a8cc4386-0179-472e-9288-661a4244a292",
   "metadata": {},
   "outputs": [
    {
     "name": "stdout",
     "output_type": "stream",
     "text": [
      "T-score:11.03\n",
      "P-value:0.00000\n",
      "Reject H0:Medication affects IQ (likely increases it).\n"
     ]
    }
   ],
   "source": [
    "#Task 2\n",
    "import numpy as np\n",
    "import scipy.stats as stats\n",
    "\n",
    "np.random.seed(42)\n",
    "sample_data = np.random.normal(140,20,30)\n",
    "\n",
    "t_score ,p_value = stats.ttest_1samp(sample_data , popmean=100)\n",
    "\n",
    "print(f\"T-score:{t_score:.2f}\")\n",
    "print(f\"P-value:{p_value:.5f}\")\n",
    "\n",
    "if p_value < 0.05:\n",
    "    print(\"Reject H0:Medication affects IQ (likely increases it).\")\n",
    "else:\n",
    "    print(\"Fail to reject H0:No significant effect of medication on IQ.\")"
   ]
  },
  {
   "cell_type": "code",
   "execution_count": null,
   "id": "e8541ba0-d28f-4088-b62e-c77e471eaa65",
   "metadata": {},
   "outputs": [],
   "source": []
  }
 ],
 "metadata": {
  "kernelspec": {
   "display_name": "Python 3 (ipykernel)",
   "language": "python",
   "name": "python3"
  },
  "language_info": {
   "codemirror_mode": {
    "name": "ipython",
    "version": 3
   },
   "file_extension": ".py",
   "mimetype": "text/x-python",
   "name": "python",
   "nbconvert_exporter": "python",
   "pygments_lexer": "ipython3",
   "version": "3.11.7"
  }
 },
 "nbformat": 4,
 "nbformat_minor": 5
}
