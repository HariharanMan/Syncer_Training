{
 "cells": [
  {
   "cell_type": "code",
   "execution_count": 1,
   "id": "ac842fa5-8ecc-437b-b5ca-e3b617e0ac4b",
   "metadata": {},
   "outputs": [
    {
     "name": "stdout",
     "output_type": "stream",
     "text": [
      "              price     bedrooms    bathrooms   sqft_living      sqft_lot  \\\n",
      "count  4.140000e+03  4140.000000  4140.000000   4140.000000  4.140000e+03   \n",
      "mean   5.530629e+05     3.400483     2.163043   2143.638889  1.469764e+04   \n",
      "std    5.836865e+05     0.903939     0.784733    957.481621  3.587684e+04   \n",
      "min    0.000000e+00     0.000000     0.000000    370.000000  6.380000e+02   \n",
      "25%    3.200000e+05     3.000000     1.750000   1470.000000  5.000000e+03   \n",
      "50%    4.600000e+05     3.000000     2.250000   1980.000000  7.676000e+03   \n",
      "75%    6.591250e+05     4.000000     2.500000   2620.000000  1.100000e+04   \n",
      "max    2.659000e+07     8.000000     6.750000  10040.000000  1.074218e+06   \n",
      "\n",
      "            floors   waterfront         view    condition   sqft_above  \\\n",
      "count  4140.000000  4140.000000  4140.000000  4140.000000  4140.000000   \n",
      "mean      1.514130     0.007488     0.246618     3.452415  1831.351449   \n",
      "std       0.534941     0.086219     0.790619     0.678533   861.382947   \n",
      "min       1.000000     0.000000     0.000000     1.000000   370.000000   \n",
      "25%       1.000000     0.000000     0.000000     3.000000  1190.000000   \n",
      "50%       1.500000     0.000000     0.000000     3.000000  1600.000000   \n",
      "75%       2.000000     0.000000     0.000000     4.000000  2310.000000   \n",
      "max       3.500000     1.000000     4.000000     5.000000  8020.000000   \n",
      "\n",
      "       sqft_basement     yr_built  yr_renovated  \n",
      "count    4140.000000  4140.000000   4140.000000  \n",
      "mean      312.287440  1970.814010    808.368357  \n",
      "std       464.349222    29.807941    979.380535  \n",
      "min         0.000000  1900.000000      0.000000  \n",
      "25%         0.000000  1951.000000      0.000000  \n",
      "50%         0.000000  1976.000000      0.000000  \n",
      "75%       602.500000  1997.000000   1999.000000  \n",
      "max      4820.000000  2014.000000   2014.000000  \n"
     ]
    }
   ],
   "source": [
    "#Task1\n",
    "import pandas as pd\n",
    "\n",
    "df=pd.read_csv(\"USA Housing Dataset.csv\")\n",
    "\n",
    "summary_stats=df.describe()\n",
    "print(summary_stats)"
   ]
  },
  {
   "cell_type": "code",
   "execution_count": 3,
   "id": "86033559-5fec-4589-bd29-27fea567e2d5",
   "metadata": {},
   "outputs": [
    {
     "name": "stdout",
     "output_type": "stream",
     "text": [
      "Requirement already satisfied: pyPDF2 in c:\\users\\user\\anaconda3\\lib\\site-packages (3.0.1)\n",
      "Note: you may need to restart the kernel to use updated packages.\n"
     ]
    }
   ],
   "source": [
    "pip install pyPDF2"
   ]
  },
  {
   "cell_type": "code",
   "execution_count": 1,
   "id": "f48c7ea5-fd52-4a0a-9cbe-cd861f3c7892",
   "metadata": {},
   "outputs": [
    {
     "name": "stdout",
     "output_type": "stream",
     "text": [
      "🔹 Encrypted PDF saved as: output_encrypted.pdf\n"
     ]
    }
   ],
   "source": [
    "#Task2\n",
    "from PyPDF2 import PdfReader, PdfWriter\n",
    "\n",
    "input_pdf_path = \"coding-interview-in-java.pdf\"  \n",
    "output_pdf_path = \"output_encrypted.pdf\"  \n",
    "password = \"secure123\"  \n",
    "\n",
    "reader = PdfReader(input_pdf_path)\n",
    "\n",
    "writer = PdfWriter()\n",
    "\n",
    "for page in reader.pages:\n",
    "    writer.add_page(page)\n",
    "writer.encrypt(password)\n",
    "\n",
    "with open(output_pdf_path, \"wb\") as output_file:\n",
    "    writer.write(output_file)\n",
    "\n",
    "print(f\"🔹 Encrypted PDF saved as: {output_pdf_path}\")\n"
   ]
  },
  {
   "cell_type": "code",
   "execution_count": 3,
   "id": "9aa0588e-4678-4ab3-8b92-0ac2dc61d1a6",
   "metadata": {},
   "outputs": [
    {
     "name": "stdout",
     "output_type": "stream",
     "text": [
      "                  date      price  bedrooms  bathrooms  sqft_living  sqft_lot  \\\n",
      "0  2014-05-09 00:00:00   376000.0       3.0       2.00         1340      1384   \n",
      "1  2014-05-09 00:00:00   800000.0       4.0       3.25         3540    159430   \n",
      "2  2014-05-09 00:00:00  2238888.0       5.0       6.50         7270    130017   \n",
      "3  2014-05-09 00:00:00   324000.0       3.0       2.25          998       904   \n",
      "4  2014-05-10 00:00:00   549900.0       5.0       2.75         3060      7015   \n",
      "\n",
      "   floors  waterfront  view  condition  sqft_above  sqft_basement  yr_built  \\\n",
      "0     3.0           0     0          3        1340              0      2008   \n",
      "1     2.0           0     0          3        3540              0      2007   \n",
      "2     2.0           0     0          3        6420            850      2010   \n",
      "3     2.0           0     0          3         798            200      2007   \n",
      "4     1.0           0     0          5        1600           1460      1979   \n",
      "\n",
      "   yr_renovated                   street       city  statezip country  \\\n",
      "0             0  9245-9249 Fremont Ave N    Seattle  WA 98103     USA   \n",
      "1             0         33001 NE 24th St  Carnation  WA 98014     USA   \n",
      "2             0         7070 270th Pl SE   Issaquah  WA 98029     USA   \n",
      "3             0           820 NW 95th St    Seattle  WA 98117     USA   \n",
      "4             0        10834 31st Ave SW    Seattle  WA 98146     USA   \n",
      "\n",
      "   price_per_sqft  \n",
      "0      280.597015  \n",
      "1      225.988701  \n",
      "2      307.962586  \n",
      "3      324.649299  \n",
      "4      179.705882  \n"
     ]
    }
   ],
   "source": [
    "#Task 3\n",
    "import pandas as pd\n",
    "df=pd.read_csv(\"USA Housing Dataset.csv\")\n",
    "\n",
    "price_column='price'\n",
    "sqft_column='sqft_living'\n",
    "\n",
    "df['price_per_sqft']=df[price_column] / df[sqft_column]\n",
    "print(df.head())"
   ]
  },
  {
   "cell_type": "code",
   "execution_count": 4,
   "id": "bb874ff8-fcc1-4245-8f7f-3999c4ad8473",
   "metadata": {},
   "outputs": [
    {
     "name": "stdout",
     "output_type": "stream",
     "text": [
      "[1, 2, 3]['A', 'B', 'C']\n",
      "\n",
      "Both threads have finished execution\n"
     ]
    }
   ],
   "source": [
    "#Task4\n",
    "import threading\n",
    "\n",
    "def print_numbers():\n",
    "    print([1,2,3])\n",
    "\n",
    "def print_letters():\n",
    "    print([\"A\",\"B\",\"C\"])\n",
    "\n",
    "thread1 = threading.Thread(target=print_numbers)\n",
    "thread2 = threading.Thread(target=print_letters)\n",
    "\n",
    "thread1.start()\n",
    "thread2.start()\n",
    "\n",
    "thread1.join()\n",
    "thread2.join()\n",
    "\n",
    "print(\"Both threads have finished execution\")"
   ]
  },
  {
   "cell_type": "code",
   "execution_count": 6,
   "id": "0e552097-0433-41e7-8603-1a89c2062daf",
   "metadata": {},
   "outputs": [
    {
     "name": "stdout",
     "output_type": "stream",
     "text": [
      "Logs have been written to'app.log'.\n"
     ]
    }
   ],
   "source": [
    "#Task 5\n",
    "import logging\n",
    "\n",
    "logging.basicConfig(filename=\"app.log\",level=logging.INFO,format='%(asctime)s - %(levelname)s-%(message)s')\n",
    "logging.info(\"Script has Started\")\n",
    "\n",
    "logging.info(\"Task has complete\")\n",
    "\n",
    "print(\"Logs have been written to'app.log'.\")"
   ]
  },
  {
   "cell_type": "code",
   "execution_count": 4,
   "id": "37d16589-d5e9-4a7f-9408-4bde765daed7",
   "metadata": {},
   "outputs": [
    {
     "name": "stdout",
     "output_type": "stream",
     "text": [
      "Logs have been written to 'app.log'.\n"
     ]
    }
   ],
   "source": [
    "#Task 6\n",
    "import logging  # Import the logging module\n",
    "\n",
    "# Configure logging to write to a file named \"app.log\"\n",
    "logging.basicConfig(filename=\"app.log\", level=logging.INFO, \n",
    "                    format='%(asctime)s - %(levelname)s - %(message)s')\n",
    "\n",
    "# Log a message indicating the script has started\n",
    "logging.info(\"Script has started.\")\n",
    "\n",
    "# Log a message indicating a task has completed\n",
    "logging.info(\"Task has completed.\")\n",
    "\n",
    "print(\"Logs have been written to 'app.log'.\")\n"
   ]
  },
  {
   "cell_type": "code",
   "execution_count": null,
   "id": "14ed1158-7252-4b4e-8dfc-c0eea4751911",
   "metadata": {},
   "outputs": [],
   "source": []
  }
 ],
 "metadata": {
  "kernelspec": {
   "display_name": "Python 3 (ipykernel)",
   "language": "python",
   "name": "python3"
  },
  "language_info": {
   "codemirror_mode": {
    "name": "ipython",
    "version": 3
   },
   "file_extension": ".py",
   "mimetype": "text/x-python",
   "name": "python",
   "nbconvert_exporter": "python",
   "pygments_lexer": "ipython3",
   "version": "3.11.7"
  }
 },
 "nbformat": 4,
 "nbformat_minor": 5
}
