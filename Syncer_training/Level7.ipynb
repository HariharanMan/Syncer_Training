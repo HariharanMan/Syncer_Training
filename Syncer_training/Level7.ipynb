{
 "cells": [
  {
   "cell_type": "code",
   "execution_count": 1,
   "id": "f67388ad-d0e3-4a00-b6e2-5be3790b0d0d",
   "metadata": {},
   "outputs": [
    {
     "name": "stdout",
     "output_type": "stream",
     "text": [
      "Z-Scores: [-1.46385011 -0.87831007 -0.29277002  0.29277002  0.87831007  1.46385011]\n",
      "The z-score for 5 is 0.29\n"
     ]
    }
   ],
   "source": [
    "#Task1\n",
    "import numpy as np\n",
    "data = np.array([2,3,4,5,6,7])\n",
    "mean = np.mean(data)\n",
    "std = np.std(data,ddof=0)\n",
    "z_scores = (data-mean)/std\n",
    "index_of_5=np.where(data == 5)[0][0]\n",
    "z_score_5 = z_scores[index_of_5]\n",
    "print(\"Z-Scores:\",z_scores)\n",
    "print(f\"The z-score for 5 is {z_score_5:.2f}\")"
   ]
  },
  {
   "cell_type": "code",
   "execution_count": 2,
   "id": "bc7fb856-cb43-43db-8c03-4dc248403d35",
   "metadata": {},
   "outputs": [
    {
     "name": "stdout",
     "output_type": "stream",
     "text": [
      "40.13% of scores fall above 4.25\n"
     ]
    }
   ],
   "source": [
    "#Task 2\n",
    "from scipy.stats import norm\n",
    "z=0.25\n",
    "area_above = norm.sf(z)\n",
    "percentage_above = area_above * 100\n",
    "print(f\"{percentage_above:.2f}% of scores fall above 4.25\")"
   ]
  },
  {
   "cell_type": "code",
   "execution_count": 4,
   "id": "3a83b745-b02b-4efe-8d66-a91a7591f8a6",
   "metadata": {},
   "outputs": [
    {
     "name": "stdout",
     "output_type": "stream",
     "text": [
      "No outliers detected\n"
     ]
    }
   ],
   "source": [
    "#Task 3\n",
    "import numpy as np\n",
    "data = np.array([1,2,3,4,5,6,7,8,9,20])\n",
    "mean = np.mean(data)\n",
    "std=np.std(data,ddof=0)\n",
    "z_scores=(data-mean)/std\n",
    "outliers = data[np.abs(z_scores) > 3]\n",
    "if len(outliers)==0:\n",
    "    print(\"No outliers detected\")\n",
    "else:\n",
    "    print(f\"Outliers detected:{outliers}\")"
   ]
  },
  {
   "cell_type": "code",
   "execution_count": 6,
   "id": "7b82cd2e-829a-4ca9-b213-eab23a1b36d3",
   "metadata": {},
   "outputs": [
    {
     "name": "stdout",
     "output_type": "stream",
     "text": [
      "Requirement already satisfied: numpy in c:\\users\\user\\anaconda3\\lib\\site-packages (1.26.4)\n"
     ]
    }
   ],
   "source": [
    "!pip install numpy"
   ]
  },
  {
   "cell_type": "code",
   "execution_count": 8,
   "id": "fb6e8de7-c319-417d-8b33-14ad47b1365b",
   "metadata": {},
   "outputs": [
    {
     "name": "stdout",
     "output_type": "stream",
     "text": [
      "IQR = 4.5\n"
     ]
    },
    {
     "data": {
      "image/png": "[encoded data removed]",
      "text/plain": [
       "<Figure size 640x480 with 1 Axes>"
      ]
     },
     "metadata": {},
     "output_type": "display_data"
    }
   ],
   "source": [
    "#Task 4\n",
    "import numpy as np\n",
    "import matplotlib.pyplot as plt\n",
    "data = [1,2,3,4,5,6,7,8,9,20]\n",
    "Q1 = np.percentile(data,25)\n",
    "Q3 = np.percentile (data,75)\n",
    "IQR = Q3 - Q1\n",
    "print(f\"IQR = {IQR}\")\n",
    "plt.boxplot(data)\n",
    "plt.title(\"Box Plot\")\n",
    "plt.show()"
   ]
  },
  {
   "cell_type": "code",
   "execution_count": 12,
   "id": "a1fe6515-cfc5-4d5e-859d-7be020bec2bc",
   "metadata": {},
   "outputs": [
    {
     "name": "stdout",
     "output_type": "stream",
     "text": [
      "Simualated probability: 0.325\n",
      "Theoretical probability:0.333\n"
     ]
    }
   ],
   "source": [
    "#Task5\n",
    "import numpy as np\n",
    "rolls = np.random.randint(1,7,size=1000)\n",
    "count_1_or_3=np.sum((rolls ==1) | (rolls ==3))\n",
    "prob_simulated = count_1_or_3 / 1000\n",
    "prob_theoretical = 1/3\n",
    "print(f\"Simualated probability: {prob_simulated:.3f}\")\n",
    "print(f\"Theoretical probability:{prob_theoretical:.3f}\" )"
   ]
  },
  {
   "cell_type": "code",
   "execution_count": 13,
   "id": "5a8dba5c-9547-4c55-9c4e-dcf91a4a632c",
   "metadata": {},
   "outputs": [
    {
     "name": "stdout",
     "output_type": "stream",
     "text": [
      "P(Queen or Heart)=0.3077\n"
     ]
    }
   ],
   "source": [
    "#Task 6\n",
    "P_Queen = 4/52\n",
    "P_Heart = 13/52\n",
    "P_Queen_and_Heart=1/52\n",
    "P_Queen_or_Heart = P_Queen + P_Heart - P_Queen_and_Heart\n",
    "print(f\"P(Queen or Heart)={P_Queen_or_Heart:.4f}\")\n"
   ]
  }
 ],
 "metadata": {
  "kernelspec": {
   "display_name": "Python 3 (ipykernel)",
   "language": "python",
   "name": "python3"
  },
  "language_info": {
   "codemirror_mode": {
    "name": "ipython",
    "version": 3
   },
   "file_extension": ".py",
   "mimetype": "text/x-python",
   "name": "python",
   "nbconvert_exporter": "python",
   "pygments_lexer": "ipython3",
   "version": "3.11.7"
  }
 },
 "nbformat": 4,
 "nbformat_minor": 5
}
