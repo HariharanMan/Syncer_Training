{
 "cells": [
  {
   "cell_type": "code",
   "execution_count": 1,
   "id": "5d24406f-ba14-4584-927f-247b9a18a86f",
   "metadata": {},
   "outputs": [
    {
     "name": "stdout",
     "output_type": "stream",
     "text": [
      "\n",
      "===== Personal Budget Summary =====\n",
      "Total Income: $3700\n",
      "Total Expenses: $2050\n",
      "Remaining Balance: $1650\n",
      "==================================\n",
      "\n"
     ]
    }
   ],
   "source": [
    "#Task1\n",
    "def calculate_total(data):\n",
    "    \"\"\"Function to calculate the total sum of values in a dictionary.\"\"\"\n",
    "    return sum(data.values())\n",
    "\n",
    "income = {\n",
    "    \"Salary\": 3000,\n",
    "    \"Freelance\": 500,\n",
    "    \"Investments\": 200\n",
    "}\n",
    "\n",
    "expenses = {\n",
    "    \"Rent\": 1200,\n",
    "    \"Food\": 500,\n",
    "    \"Transport\": 150,\n",
    "    \"Entertainment\": 200\n",
    "}\n",
    "\n",
    "total_income = calculate_total(income)\n",
    "total_expenses = calculate_total(expenses)\n",
    "\n",
    "balance = total_income - total_expenses\n",
    "\n",
    "print(\"\\n===== Personal Budget Summary =====\")\n",
    "print(f\"Total Income: ${total_income}\")\n",
    "print(f\"Total Expenses: ${total_expenses}\")\n",
    "print(f\"Remaining Balance: ${balance}\")\n",
    "print(\"==================================\\n\")\n"
   ]
  },
  {
   "cell_type": "code",
   "execution_count": 3,
   "id": "70f97fb8-fdd4-4bba-8aab-42f42571b037",
   "metadata": {},
   "outputs": [
    {
     "name": "stdin",
     "output_type": "stream",
     "text": [
      "Enter student name:  Hari\n",
      "Enter grade for Hari (0-100):  90\n",
      "Enter student name:  ajay\n",
      "Enter grade for ajay (0-100):  89\n",
      "Enter student name:  harlee\n",
      "Enter grade for harlee (0-100):  78\n",
      "Enter student name:  lochana\n",
      "Enter grade for lochana (0-100):  90\n",
      "Enter student name:  aadhi\n",
      "Enter grade for aadhi (0-100):  89\n"
     ]
    },
    {
     "name": "stdout",
     "output_type": "stream",
     "text": [
      "\n",
      "===== Student Grade Analysis =====\n",
      "Average Grade: 87.20\n",
      "Number of Passing Students: 5\n",
      "==================================\n",
      "\n"
     ]
    }
   ],
   "source": [
    "#Task2\n",
    "\n",
    "def calculate_average(grades):\n",
    "    \"\"\"Function to calculate the average grade.\"\"\"\n",
    "    return sum(grade for _, grade in grades) / len(grades)\n",
    "\n",
    "def count_passing_students(grades, passing_score=60):\n",
    "    \"\"\"Function to count students who scored above the passing threshold.\"\"\"\n",
    "    return sum(1 for _, grade in grades if grade >= passing_score)\n",
    "\n",
    "student_grades = []\n",
    "\n",
    "for _ in range(5):\n",
    "    name = input(\"Enter student name: \")\n",
    "    grade = int(input(f\"Enter grade for {name} (0-100): \"))\n",
    "    student_grades.append((name, grade))\n",
    "\n",
    "average_grade = calculate_average(student_grades)\n",
    "passing_count = count_passing_students(student_grades)\n",
    "\n",
    "print(\"\\n===== Student Grade Analysis =====\")\n",
    "print(f\"Average Grade: {average_grade:.2f}\")\n",
    "print(f\"Number of Passing Students: {passing_count}\")\n",
    "print(\"==================================\\n\")\n"
   ]
  },
  {
   "cell_type": "code",
   "execution_count": 4,
   "id": "ab8ff32d-1d71-4d19-9723-377d8494cff7",
   "metadata": {},
   "outputs": [
    {
     "name": "stdout",
     "output_type": "stream",
     "text": [
      "Requirement already satisfied: pandas in c:\\users\\user\\anaconda3\\lib\\site-packages (2.1.4)\n",
      "Requirement already satisfied: seaborn in c:\\users\\user\\anaconda3\\lib\\site-packages (0.12.2)\n",
      "Requirement already satisfied: matplotlib in c:\\users\\user\\anaconda3\\lib\\site-packages (3.8.0)\n",
      "Requirement already satisfied: numpy<2,>=1.23.2 in c:\\users\\user\\anaconda3\\lib\\site-packages (from pandas) (1.26.4)\n",
      "Requirement already satisfied: python-dateutil>=2.8.2 in c:\\users\\user\\anaconda3\\lib\\site-packages (from pandas) (2.8.2)\n",
      "Requirement already satisfied: pytz>=2020.1 in c:\\users\\user\\anaconda3\\lib\\site-packages (from pandas) (2023.3.post1)\n",
      "Requirement already satisfied: tzdata>=2022.1 in c:\\users\\user\\anaconda3\\lib\\site-packages (from pandas) (2023.3)\n",
      "Requirement already satisfied: contourpy>=1.0.1 in c:\\users\\user\\anaconda3\\lib\\site-packages (from matplotlib) (1.2.0)\n",
      "Requirement already satisfied: cycler>=0.10 in c:\\users\\user\\anaconda3\\lib\\site-packages (from matplotlib) (0.11.0)\n",
      "Requirement already satisfied: fonttools>=4.22.0 in c:\\users\\user\\anaconda3\\lib\\site-packages (from matplotlib) (4.25.0)\n",
      "Requirement already satisfied: kiwisolver>=1.0.1 in c:\\users\\user\\anaconda3\\lib\\site-packages (from matplotlib) (1.4.4)\n",
      "Requirement already satisfied: packaging>=20.0 in c:\\users\\user\\anaconda3\\lib\\site-packages (from matplotlib) (23.1)\n",
      "Requirement already satisfied: pillow>=6.2.0 in c:\\users\\user\\anaconda3\\lib\\site-packages (from matplotlib) (10.2.0)\n",
      "Requirement already satisfied: pyparsing>=2.3.1 in c:\\users\\user\\anaconda3\\lib\\site-packages (from matplotlib) (3.0.9)\n",
      "Requirement already satisfied: six>=1.5 in c:\\users\\user\\anaconda3\\lib\\site-packages (from python-dateutil>=2.8.2->pandas) (1.16.0)\n"
     ]
    }
   ],
   "source": [
    "!pip install pandas seaborn matplotlib"
   ]
  },
  {
   "cell_type": "code",
   "execution_count": 7,
   "id": "f36bf6e1-ea95-4c01-ad9b-dac934619df6",
   "metadata": {},
   "outputs": [
    {
     "data": {
      "text/html": [
       "<div>\n",
       "<style scoped>\n",
       "    .dataframe tbody tr th:only-of-type {\n",
       "        vertical-align: middle;\n",
       "    }\n",
       "\n",
       "    .dataframe tbody tr th {\n",
       "        vertical-align: top;\n",
       "    }\n",
       "\n",
       "    .dataframe thead th {\n",
       "        text-align: right;\n",
       "    }\n",
       "</style>\n",
       "<table border=\"1\" class=\"dataframe\">\n",
       "  <thead>\n",
       "    <tr style=\"text-align: right;\">\n",
       "      <th></th>\n",
       "      <th>PassengerId</th>\n",
       "      <th>Survived</th>\n",
       "      <th>Pclass</th>\n",
       "      <th>Sex</th>\n",
       "      <th>Age</th>\n",
       "      <th>SibSp</th>\n",
       "      <th>Parch</th>\n",
       "      <th>Fare</th>\n",
       "      <th>Embarked</th>\n",
       "    </tr>\n",
       "  </thead>\n",
       "  <tbody>\n",
       "    <tr>\n",
       "      <th>0</th>\n",
       "      <td>1</td>\n",
       "      <td>0</td>\n",
       "      <td>3</td>\n",
       "      <td>Male</td>\n",
       "      <td>22.0</td>\n",
       "      <td>1</td>\n",
       "      <td>0</td>\n",
       "      <td>7.2500</td>\n",
       "      <td>3</td>\n",
       "    </tr>\n",
       "    <tr>\n",
       "      <th>1</th>\n",
       "      <td>2</td>\n",
       "      <td>1</td>\n",
       "      <td>1</td>\n",
       "      <td>female</td>\n",
       "      <td>38.0</td>\n",
       "      <td>1</td>\n",
       "      <td>0</td>\n",
       "      <td>71.2833</td>\n",
       "      <td>1</td>\n",
       "    </tr>\n",
       "    <tr>\n",
       "      <th>2</th>\n",
       "      <td>3</td>\n",
       "      <td>1</td>\n",
       "      <td>3</td>\n",
       "      <td>female</td>\n",
       "      <td>26.0</td>\n",
       "      <td>0</td>\n",
       "      <td>0</td>\n",
       "      <td>7.9250</td>\n",
       "      <td>3</td>\n",
       "    </tr>\n",
       "    <tr>\n",
       "      <th>3</th>\n",
       "      <td>4</td>\n",
       "      <td>1</td>\n",
       "      <td>1</td>\n",
       "      <td>female</td>\n",
       "      <td>35.0</td>\n",
       "      <td>1</td>\n",
       "      <td>0</td>\n",
       "      <td>53.1000</td>\n",
       "      <td>3</td>\n",
       "    </tr>\n",
       "    <tr>\n",
       "      <th>4</th>\n",
       "      <td>5</td>\n",
       "      <td>0</td>\n",
       "      <td>3</td>\n",
       "      <td>Male</td>\n",
       "      <td>35.0</td>\n",
       "      <td>0</td>\n",
       "      <td>0</td>\n",
       "      <td>8.0500</td>\n",
       "      <td>3</td>\n",
       "    </tr>\n",
       "  </tbody>\n",
       "</table>\n",
       "</div>"
      ],
      "text/plain": [
       "   PassengerId  Survived  Pclass     Sex   Age  SibSp  Parch     Fare  \\\n",
       "0            1         0       3    Male  22.0      1      0   7.2500   \n",
       "1            2         1       1  female  38.0      1      0  71.2833   \n",
       "2            3         1       3  female  26.0      0      0   7.9250   \n",
       "3            4         1       1  female  35.0      1      0  53.1000   \n",
       "4            5         0       3    Male  35.0      0      0   8.0500   \n",
       "\n",
       "   Embarked  \n",
       "0         3  \n",
       "1         1  \n",
       "2         3  \n",
       "3         3  \n",
       "4         3  "
      ]
     },
     "metadata": {},
     "output_type": "display_data"
    },
    {
     "name": "stdout",
     "output_type": "stream",
     "text": [
      "Summary Statistics:\n",
      "               Age        Fare\n",
      "count  889.000000  889.000000\n",
      "mean    35.686355   32.096681\n",
      "std     17.756733   49.697504\n",
      "min      0.420000    0.000000\n",
      "25%     22.000000    7.895800\n",
      "50%     32.000000   14.454200\n",
      "75%     54.000000   31.000000\n",
      "max     80.000000  512.329200\n",
      "\n",
      "Survival Rates by Class:\n",
      " Pclass\n",
      "1    0.626168\n",
      "2    0.472826\n",
      "3    0.242363\n",
      "Name: Survived, dtype: float64\n"
     ]
    },
    {
     "data": {
      "image/png": "[encoded data removed]",
      "text/plain": [
       "<Figure size 800x500 with 1 Axes>"
      ]
     },
     "metadata": {},
     "output_type": "display_data"
    }
   ],
   "source": [
    "# Task3\n",
    "import pandas as pd\n",
    "import seaborn as sns\n",
    "import matplotlib.pyplot as plt\n",
    "\n",
    "# Load the Titanic dataset (Ensure 'titanic.csv' is in the same directory)\n",
    "df = pd.read_csv('SVMtrain.csv')\n",
    "\n",
    "# Display the first few rows to confirm successful loading\n",
    "display(df.head())\n",
    "\n",
    "# Calculate summary statistics\n",
    "summary_stats = df[['Age', 'Fare']].describe()\n",
    "print(\"Summary Statistics:\\n\", summary_stats)\n",
    "\n",
    "# Group by passenger class and compute survival rates\n",
    "survival_rates = df.groupby('Pclass')['Survived'].mean()\n",
    "print(\"\\nSurvival Rates by Class:\\n\", survival_rates)\n",
    "\n",
    "# Create a bar chart of survival rates by class\n",
    "plt.figure(figsize=(8, 5))\n",
    "sns.barplot(x=survival_rates.index, y=survival_rates.values, palette='viridis')\n",
    "plt.xlabel('Passenger Class')\n",
    "plt.ylabel('Survival Rate')\n",
    "plt.title('Survival Rate by Passenger Class')\n",
    "plt.show()\n"
   ]
  },
  {
   "cell_type": "code",
   "execution_count": 9,
   "id": "89e73efc-a402-41f7-8aa1-4f40b6170e5e",
   "metadata": {},
   "outputs": [
    {
     "name": "stdin",
     "output_type": "stream",
     "text": [
      "Enter a short text message:  I am hariharan\n"
     ]
    },
    {
     "name": "stdout",
     "output_type": "stream",
     "text": [
      "SHA256 Hash: 3166eec65b3462409c7be73a4a79b2650799a8b62fc4d0f47b5bd1794ab38386\n",
      "Encrypted hash saved in 'encrypted.txt'\n"
     ]
    }
   ],
   "source": [
    "#Task4\n",
    "import hashlib\n",
    "\n",
    "message = input(\"Enter a short text message: \")\n",
    "\n",
    "with open(\"message.txt\", \"w\") as file:\n",
    "    file.write(message)\n",
    "\n",
    "with open(\"message.txt\", \"r\") as file:\n",
    "    content = file.read()\n",
    "\n",
    "hash_object = hashlib.sha256(content.encode())\n",
    "hash_hex = hash_object.hexdigest()\n",
    "\n",
    "with open(\"encrypted.txt\", \"w\") as file:\n",
    "    file.write(hash_hex)\n",
    "\n",
    "print(\"SHA256 Hash:\", hash_hex)\n",
    "print(\"Encrypted hash saved in 'encrypted.txt'\")\n"
   ]
  },
  {
   "cell_type": "code",
   "execution_count": 15,
   "id": "16d48eec-45ff-4e90-8fca-f98a8aaa9bca",
   "metadata": {},
   "outputs": [
    {
     "name": "stdout",
     "output_type": "stream",
     "text": [
      "Summary Statistics:\n",
      "               price   sqft_living\n",
      "count  4.140000e+03   4140.000000\n",
      "mean   5.530629e+05   2143.638889\n",
      "std    5.836865e+05    957.481621\n",
      "min    0.000000e+00    370.000000\n",
      "25%    3.200000e+05   1470.000000\n",
      "50%    4.600000e+05   1980.000000\n",
      "75%    6.591250e+05   2620.000000\n",
      "max    2.659000e+07  10040.000000\n",
      "\n",
      "Updated DataFrame with 'Price_per_SqFt':\n",
      "                   date      price  bedrooms  bathrooms  sqft_living  sqft_lot  \\\n",
      "0  2014-05-09 00:00:00   376000.0       3.0       2.00         1340      1384   \n",
      "1  2014-05-09 00:00:00   800000.0       4.0       3.25         3540    159430   \n",
      "2  2014-05-09 00:00:00  2238888.0       5.0       6.50         7270    130017   \n",
      "3  2014-05-09 00:00:00   324000.0       3.0       2.25          998       904   \n",
      "4  2014-05-10 00:00:00   549900.0       5.0       2.75         3060      7015   \n",
      "\n",
      "   floors  waterfront  view  condition  sqft_above  sqft_basement  yr_built  \\\n",
      "0     3.0           0     0          3        1340              0      2008   \n",
      "1     2.0           0     0          3        3540              0      2007   \n",
      "2     2.0           0     0          3        6420            850      2010   \n",
      "3     2.0           0     0          3         798            200      2007   \n",
      "4     1.0           0     0          5        1600           1460      1979   \n",
      "\n",
      "   yr_renovated                   street       city  statezip country  \\\n",
      "0             0  9245-9249 Fremont Ave N    Seattle  WA 98103     USA   \n",
      "1             0         33001 NE 24th St  Carnation  WA 98014     USA   \n",
      "2             0         7070 270th Pl SE   Issaquah  WA 98029     USA   \n",
      "3             0           820 NW 95th St    Seattle  WA 98117     USA   \n",
      "4             0        10834 31st Ave SW    Seattle  WA 98146     USA   \n",
      "\n",
      "   Price_per_SqFt  \n",
      "0      280.597015  \n",
      "1      225.988701  \n",
      "2      307.962586  \n",
      "3      324.649299  \n",
      "4      179.705882  \n"
     ]
    },
    {
     "data": {
      "image/png": "[encoded data removed]",
      "text/plain": [
       "<Figure size 800x500 with 1 Axes>"
      ]
     },
     "metadata": {},
     "output_type": "display_data"
    }
   ],
   "source": [
    "#task 5\n",
    "import pandas as pd\n",
    "import matplotlib.pyplot as plt\n",
    "\n",
    "df = pd.read_csv('USA Housing Dataset.csv')\n",
    "\n",
    "summary_stats = df[['price', 'sqft_living']].describe()\n",
    "print(\"Summary Statistics:\\n\", summary_stats)\n",
    "\n",
    "df['Price_per_SqFt'] = df['price'] / df['sqft_living']\n",
    "\n",
    "print(\"\\nUpdated DataFrame with 'Price_per_SqFt':\\n\", df.head())\n",
    "\n",
    "plt.figure(figsize=(8, 5))\n",
    "plt.scatter(df['sqft_living'], df['price'], alpha=0.5, color='blue')\n",
    "plt.xlabel('Square Footage')\n",
    "plt.ylabel('price')\n",
    "plt.title('House Price vs. Square Footage')\n",
    "plt.grid(True)\n",
    "plt.show()\n"
   ]
  },
  {
   "cell_type": "code",
   "execution_count": 20,
   "id": "46891d9b-5264-4aa7-9781-892477240055",
   "metadata": {},
   "outputs": [
    {
     "name": "stdout",
     "output_type": "stream",
     "text": [
      "Mean Close Price of 2015-2017: 125.26973323170733Mean Close Price of 2018-2020: 213.9864534883721\n",
      "\n",
      "Processing complete. Check 'processing.log' for details.\n"
     ]
    }
   ],
   "source": [
    "#task 6\n",
    "\n",
    "import threading\n",
    "import logging\n",
    "import pandas as pd\n",
    "\n",
    "logging.basicConfig(filename='processing.log', level=logging.INFO, format='%(asctime)s - %(message)s')\n",
    "\n",
    "def process_data(df, label):\n",
    "    \"\"\"Processes a portion of the dataset and calculates the mean 'Close' price.\"\"\"\n",
    "    logging.info(f\"Started processing {label}\")\n",
    "    mean_value = df['close'].mean()\n",
    "    logging.info(f\"Finished processing {label} - Mean Close Price: {mean_value}\")\n",
    "    print(f\"Mean Close Price of {label}: {mean_value}\")\n",
    "\n",
    "filename = 'AAPL.csv'\n",
    "df = pd.read_csv(filename)\n",
    "\n",
    "df['date'] = pd.to_datetime(df['date'])\n",
    "\n",
    "part1 = df[(df['date'].dt.year >= 2015) & (df['date'].dt.year <= 2017)]\n",
    "part2 = df[(df['date'].dt.year >= 2018) & (df['date'].dt.year <= 2020)]\n",
    "\n",
    "# Step 7: Create threads to\n",
    "thread1 = threading.Thread(target=process_data, args=(part1, '2015-2017'))\n",
    "thread2 = threading.Thread(target=process_data, args=(part2, '2018-2020'))\n",
    "\n",
    "# Step 8: Start and join threads\n",
    "thread1.start()\n",
    "thread2.start()\n",
    "\n",
    "thread1.join()\n",
    "thread2.join()\n",
    "\n",
    "print(\"Processing complete. Check 'processing.log' for details.\")\n"
   ]
  },
  {
   "cell_type": "code",
   "execution_count": 22,
   "id": "1307eecd-dbe0-4d13-8c36-5076f088b52c",
   "metadata": {},
   "outputs": [
    {
     "name": "stdout",
     "output_type": "stream",
     "text": [
      "Welcome to the Custom Data Class Dashboard!\n",
      "Type 'stats' to view dataset statistics or 'plot' to see a histogram.\n"
     ]
    },
    {
     "name": "stdin",
     "output_type": "stream",
     "text": [
      "\n",
      "Enter command:  price\n"
     ]
    },
    {
     "name": "stdout",
     "output_type": "stream",
     "text": [
      "Invalid command. Please type 'stats', 'plot', or 'exit'.\n"
     ]
    },
    {
     "name": "stdin",
     "output_type": "stream",
     "text": [
      "\n",
      "Enter command:  stats\n",
      "Enter column name for stats (e.g., 'price'):  price\n"
     ]
    },
    {
     "name": "stdout",
     "output_type": "stream",
     "text": [
      "Mean: 553062.8772890784\n",
      "Max: 26590000.0\n",
      "Min: 0.0\n"
     ]
    },
    {
     "name": "stdin",
     "output_type": "stream",
     "text": [
      "\n",
      "Enter command:  exit\n"
     ]
    },
    {
     "name": "stdout",
     "output_type": "stream",
     "text": [
      "Exiting the dashboard.\n"
     ]
    }
   ],
   "source": [
    "import pandas as pd\n",
    "import matplotlib.pyplot as plt\n",
    "from dataclasses import dataclass\n",
    "\n",
    "# Step 3: Define the Data Class\n",
    "@dataclass\n",
    "class DatasetStats:\n",
    "    mean: float\n",
    "    max: float\n",
    "    min: float\n",
    "\n",
    "    # Step 6: Method to plot a histogram of a column\n",
    "    def plot_histogram(self, df: pd.DataFrame, column: str):\n",
    "        df[column].plot(kind='hist', bins=20, color='skyblue', edgecolor='black')\n",
    "        plt.title(f'Histogram of {column}')\n",
    "        plt.xlabel(column)\n",
    "        plt.ylabel('Frequency')\n",
    "        plt.show()\n",
    "\n",
    "# Step 4: Load a dataset (house prices as an example)\n",
    "# Replace this with your local dataset path\n",
    "dataset_path = 'USA Housing Dataset.csv'  # E.g., 'data/houseprices.csv'\n",
    "df = pd.read_csv(dataset_path)\n",
    "\n",
    "# Step 5: Create an instance of the data class\n",
    "def compute_stats(df: pd.DataFrame, column: str) -> DatasetStats:\n",
    "    return DatasetStats(\n",
    "        mean=df[column].mean(),\n",
    "        max=df[column].max(),\n",
    "        min=df[column].min()\n",
    "    )\n",
    "\n",
    "# Main interactive menu (for Jupyter)\n",
    "def dashboard():\n",
    "    print(\"Welcome to the Custom Data Class Dashboard!\")\n",
    "    print(\"Type 'stats' to view dataset statistics or 'plot' to see a histogram.\")\n",
    "    \n",
    "    # Example usage in Jupyter (showing menu options directly)\n",
    "    options = [\"stats\", \"plot\", \"exit\"]\n",
    "    command = None\n",
    "    \n",
    "    while command != \"exit\":\n",
    "        command = input(\"\\nEnter command: \").lower()\n",
    "        \n",
    "        if command == \"stats\":\n",
    "            column = input(\"Enter column name for stats (e.g., 'price'): \")\n",
    "            if column in df.columns:\n",
    "                stats = compute_stats(df, column)\n",
    "                print(f\"Mean: {stats.mean}\")\n",
    "                print(f\"Max: {stats.max}\")\n",
    "                print(f\"Min: {stats.min}\")\n",
    "            else:\n",
    "                print(f\"Invalid column name '{column}'.\")\n",
    "                \n",
    "        elif command == \"plot\":\n",
    "            column = input(\"Enter column name for histogram (e.g., 'price'): \")\n",
    "            if column in df.columns:\n",
    "                stats = compute_stats(df, column)\n",
    "                stats.plot_histogram(df, column)\n",
    "            else:\n",
    "                print(f\"Invalid column name '{column}'.\")\n",
    "                \n",
    "        elif command == \"exit\":\n",
    "            print(\"Exiting the dashboard.\")\n",
    "        else:\n",
    "            print(\"Invalid command. Please type 'stats', 'plot', or 'exit'.\")\n",
    "\n",
    "# Run the dashboard function\n",
    "dashboard()\n"
   ]
  },
  {
   "cell_type": "code",
   "execution_count": null,
   "id": "e1d10092-6d4c-438d-bed8-9a6dac849671",
   "metadata": {},
   "outputs": [],
   "source": []
  }
 ],
 "metadata": {
  "kernelspec": {
   "display_name": "Python 3 (ipykernel)",
   "language": "python",
   "name": "python3"
  },
  "language_info": {
   "codemirror_mode": {
    "name": "ipython",
    "version": 3
   },
   "file_extension": ".py",
   "mimetype": "text/x-python",
   "name": "python",
   "nbconvert_exporter": "python",
   "pygments_lexer": "ipython3",
   "version": "3.11.7"
  }
 },
 "nbformat": 4,
 "nbformat_minor": 5
}
