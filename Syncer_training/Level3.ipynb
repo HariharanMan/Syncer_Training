{
 "cells": [
  {
   "cell_type": "code",
   "execution_count": 1,
   "id": "e098e5bb-d47e-4e8c-ab61-9b28c0fc7a96",
   "metadata": {},
   "outputs": [
    {
     "name": "stdout",
     "output_type": "stream",
     "text": [
      "Hi,Hari\n"
     ]
    }
   ],
   "source": [
    "#Task1\n",
    "class Person:\n",
    "    def __init__(self,name):\n",
    "        self.name=name\n",
    "\n",
    "    def greet(self):\n",
    "        return f\"Hi,{self.name}\"\n",
    "\n",
    "person_instance = Person(\"Hari\")\n",
    "\n",
    "print(person_instance.greet())"
   ]
  },
  {
   "cell_type": "code",
   "execution_count": 4,
   "id": "ef93e053-a1f2-4cbc-8634-1c1f0e5c3cbc",
   "metadata": {},
   "outputs": [
    {
     "name": "stdout",
     "output_type": "stream",
     "text": [
      "Cannot divide by zero\n"
     ]
    }
   ],
   "source": [
    "#Task2 \n",
    "try:\n",
    "    result = 10/0\n",
    "\n",
    "except ZeroDivisionError:\n",
    "    print(\"Cannot divide by zero\")"
   ]
  },
  {
   "cell_type": "code",
   "execution_count": 8,
   "id": "c312b991-5f92-4367-bbc7-c5f8df2e996b",
   "metadata": {},
   "outputs": [
    {
     "name": "stdout",
     "output_type": "stream",
     "text": [
      "Woof\n"
     ]
    }
   ],
   "source": [
    "# Task3\n",
    "class Animal:\n",
    "    def sound(self):\n",
    "        return \"Some generic sound\"\n",
    "\n",
    "class Dog(Animal):\n",
    "    def sound(self):\n",
    "        return \"Woof\"\n",
    "\n",
    "dog_instance = Dog()\n",
    "\n",
    "print(dog_instance.sound())\n"
   ]
  },
  {
   "cell_type": "code",
   "execution_count": 14,
   "id": "f9ee9527-b04d-462b-aad3-cb59fff125b5",
   "metadata": {},
   "outputs": [
    {
     "name": "stdout",
     "output_type": "stream",
     "text": [
      "Elapsed time: 1.00 seconds\n"
     ]
    }
   ],
   "source": [
    "#Task 4\n",
    "import time\n",
    "def time_decorator(func):\n",
    "    def wrapper():\n",
    "        start_time = time.time()\n",
    "        func()\n",
    "        end_time=time.time()\n",
    "        elapsed_time=end_time - start_time\n",
    "        print(f\"Elapsed time: {elapsed_time:.2f} seconds\")\n",
    "    return wrapper\n",
    "\n",
    "@time_decorator\n",
    "def sample_function():\n",
    "    time.sleep(1)\n",
    "\n",
    "sample_function()"
   ]
  },
  {
   "cell_type": "code",
   "execution_count": 15,
   "id": "8735171f-8f5f-467d-8b02-1d217e822a6f",
   "metadata": {},
   "outputs": [
    {
     "name": "stdout",
     "output_type": "stream",
     "text": [
      "[0, 1, 1, 2, 3]\n"
     ]
    }
   ],
   "source": [
    "#Task5\n",
    "def fib(n):\n",
    "    a,b=0,1\n",
    "    for _ in range(n):\n",
    "        yield a\n",
    "        a,b=b,a+b\n",
    "\n",
    "fib_sequence=list(fib(5))\n",
    "print(fib_sequence)"
   ]
  },
  {
   "cell_type": "code",
   "execution_count": 16,
   "id": "552ad5d7-c1f0-4f6d-a1e2-5f7f3f7f0c9c",
   "metadata": {},
   "outputs": [
    {
     "name": "stdout",
     "output_type": "stream",
     "text": [
      "Og List [[8, 2], [3, 4]]\n",
      "shallow copy: [[8, 2], [3, 4]]\n",
      "Deep copy [[7, 2], [3, 4]]\n"
     ]
    }
   ],
   "source": [
    "#Bonus Task\n",
    "import copy\n",
    "\n",
    "original_list=[[9,2],[3,4]]\n",
    "shallow_copy=copy.copy(original_list)\n",
    "\n",
    "deep_copy=copy.deepcopy(original_list)\n",
    "shallow_copy[0][0]=8\n",
    "deep_copy[0][0]=7\n",
    "\n",
    "print(\"Og List\",original_list)\n",
    "print(\"shallow copy:\",shallow_copy)\n",
    "print(\"Deep copy\",deep_copy)"
   ]
  },
  {
   "cell_type": "code",
   "execution_count": null,
   "id": "05b4cf37-b841-4828-aa2c-f6f3e674e68d",
   "metadata": {},
   "outputs": [],
   "source": []
  }
 ],
 "metadata": {
  "kernelspec": {
   "display_name": "Python 3 (ipykernel)",
   "language": "python",
   "name": "python3"
  },
  "language_info": {
   "codemirror_mode": {
    "name": "ipython",
    "version": 3
   },
   "file_extension": ".py",
   "mimetype": "text/x-python",
   "name": "python",
   "nbconvert_exporter": "python",
   "pygments_lexer": "ipython3",
   "version": "3.11.7"
  }
 },
 "nbformat": 4,
 "nbformat_minor": 5
}
